{
 "cells": [
  {
   "cell_type": "code",
   "execution_count": 3,
   "metadata": {},
   "outputs": [
    {
     "name": "stdout",
     "output_type": "stream",
     "text": [
      "\n",
      "Ignorar\n"
     ]
    }
   ],
   "source": [
    "import time\n",
    "import re\n",
    "import csv\n",
    "from bs4 import BeautifulSoup\n",
    "from pathlib import Path\n",
    "from jmespath import search\n",
    "from selenium import webdriver\n",
    "\n",
    "def saveScroll(url, driver, documentos):\n",
    "      time.sleep(5) \n",
    "\n",
    "      driver.get(url)\n",
    "\n",
    "      time.sleep(5) \n",
    "\n",
    "      SCROLL_PAUSE_TIME = 5\n",
    "\n",
    "      # Get scroll height\n",
    "      last_height = driver.execute_script(\"return document.body.scrollHeight\")\n",
    "\n",
    "      while True:\n",
    "          # Scroll down to bottom\n",
    "          driver.execute_script(\"window.scrollTo(0, document.body.scrollHeight);\")\n",
    "\n",
    "          # Wait to load page\n",
    "          time.sleep(SCROLL_PAUSE_TIME)\n",
    "\n",
    "          # Calculate new scroll height and compare with last scroll height\n",
    "          new_height = driver.execute_script(\"return document.body.scrollHeight\")\n",
    "          if new_height == last_height:\n",
    "              break\n",
    "          last_height = new_height\n",
    "\n",
    "      page_source = driver.page_source\n",
    "      soup = BeautifulSoup(page_source, 'html.parser')\n",
    "      reviews_selector = soup.find_all(\"span\", {\"class\": \"gvxzyvdx aeinzg81 t7p7dqev gh25dzvf exr7barw b6ax4al1 gem102v4 ncib64c9 mrvwc6qr sx8pxkcf f597kf1v cpcgwwas m2nijcs8 hxfwr5lz k1z55t6l oog5qr5w tes86rjd pbevjfx6 ztn2w49o\"})\n",
    "      \n",
    "      for review_selector in reviews_selector:\n",
    "          registro = re.sub(\"'((https?):((//)|(\\\\\\\\))+([\\w\\d:#@%/;$()~_?\\+-=\\\\\\.&](#!)?)*)\",\" \",review_selector.text)\n",
    "          documentos.write(registro + '\\n')\n",
    "\n",
    "def webScrapping():\n",
    "  file1 = open(str(Path.home()) + \"/Downloads/facepass.txt\",\"r+\")\n",
    "  userpass = file1.readlines()\n",
    "  user = userpass[0]\n",
    "  passw = userpass[1]\n",
    "\n",
    "  options = webdriver.ChromeOptions()\n",
    "  options.add_argument(\"--enable-javascript\")\n",
    "  options.add_argument('--ignore-certificate-errors')\n",
    "  options.add_argument('--incognito')\n",
    "  options.add_argument('--headless')\n",
    "  driver = webdriver.Chrome(options=options)\n",
    "\n",
    "\n",
    "  driver.get('http://www.facebook.com');\n",
    "\n",
    "\n",
    "  username = driver.find_element(webdriver.common.by.By.NAME,\"email\")\n",
    "  password = driver.find_element(webdriver.common.by.By.NAME,\"pass\")\n",
    "  submit   = driver.find_element(webdriver.common.by.By.NAME,\"login\")\n",
    "\n",
    "  password.send_keys(passw)\n",
    "  username.send_keys(user)\n",
    "\n",
    "  try:\n",
    "    submit.click()\n",
    "  except:\n",
    "    print(\"Ignorar\")\n",
    "\n",
    "  documentos = open(\"documentos.txt\", 'a+', newline='', encoding='utf-8')\n",
    "\n",
    "  \n",
    "\n",
    "  saveScroll('https://www.facebook.com/hashtag/ciro2022', driver, documentos)\n",
    "  saveScroll('https://www.facebook.com/hashtag/bolsonaro2022', driver, documentos)\n",
    "  saveScroll('https://www.facebook.com/hashtag/lula2022', driver, documentos)\n",
    "\n",
    "  documentos.close()\n",
    "\n",
    "  driver.quit()\n",
    "\n"
   ]
  }
 ],
 "metadata": {
  "kernelspec": {
   "display_name": "Python 3.9.12 ('base')",
   "language": "python",
   "name": "python3"
  },
  "language_info": {
   "codemirror_mode": {
    "name": "ipython",
    "version": 3
   },
   "file_extension": ".py",
   "mimetype": "text/x-python",
   "name": "python",
   "nbconvert_exporter": "python",
   "pygments_lexer": "ipython3",
   "version": "3.9.12"
  },
  "orig_nbformat": 4,
  "vscode": {
   "interpreter": {
    "hash": "d7bdcd9f84821488ca1aefdd5b383dc6099ae3b1ac329612af81525cc197a794"
   }
  }
 },
 "nbformat": 4,
 "nbformat_minor": 2
}
