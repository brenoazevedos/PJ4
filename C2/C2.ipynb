{
 "cells": [
  {
   "cell_type": "code",
   "execution_count": 6,
   "metadata": {},
   "outputs": [
    {
     "name": "stderr",
     "output_type": "stream",
     "text": [
      "c:\\Users\\breno\\anaconda3\\lib\\site-packages\\sklearn\\utils\\deprecation.py:87: FutureWarning: Function get_feature_names is deprecated; get_feature_names is deprecated in 1.0 and will be removed in 1.2. Please use get_feature_names_out instead.\n",
      "  warnings.warn(msg, category=FutureWarning)\n",
      "c:\\Users\\breno\\anaconda3\\lib\\site-packages\\sklearn\\utils\\deprecation.py:87: FutureWarning: Function get_feature_names is deprecated; get_feature_names is deprecated in 1.0 and will be removed in 1.2. Please use get_feature_names_out instead.\n",
      "  warnings.warn(msg, category=FutureWarning)\n"
     ]
    },
    {
     "data": {
      "text/plain": [
       "array([0, 0, 0, ..., 2, 2, 0])"
      ]
     },
     "execution_count": 6,
     "metadata": {},
     "output_type": "execute_result"
    }
   ],
   "source": [
    "import pandas as pd\n",
    "from pathlib import Path\n",
    "from sklearn.feature_extraction.text import TfidfVectorizer\n",
    "from sklearn.cluster import KMeans\n",
    "\n",
    "\n",
    "def idf():\n",
    "  file = open(str(Path.home()) + \"\\Documents\\Python\\PJ4\\C2\\documentosNoDuplicate.txt\",\"r\", encoding=\"utf8\")\n",
    "  liststrings = file.readlines()\n",
    "  liststrings.remove('Nao lidaBem-vindo ao Facebook! Toque aqui para encontrar pessoas que voce conhece e adiciona-las aos amigos.\\n')\n",
    "\n",
    "  tfIdfVectorizer=TfidfVectorizer(decode_error ='ignore',use_idf=True, lowercase=True)\n",
    "  tf_idf = tfIdfVectorizer.fit_transform(liststrings)\n",
    "  dataIdf = pd.DataFrame(tfIdfVectorizer.idf_ , index=tfIdfVectorizer.get_feature_names(), columns=['IDF']).T\n",
    "  dataTf_Idf = pd.DataFrame(tf_idf.todense(), columns=tfIdfVectorizer.get_feature_names())\n",
    "\n",
    "  for col in dataIdf.columns:\n",
    "    if(col != 'Unnamed: 0'):\n",
    "        dataTf_Idf.loc[dataTf_Idf[col] != 0.0, col] = dataIdf.iloc[0][col]\n",
    "\n",
    "  return dataTf_Idf\n",
    "\n",
    "\n",
    "idfvector = idf()\n",
    "\n",
    "kmeans = KMeans(n_clusters=3, random_state=0).fit(idfvector)\n",
    "\n",
    "kmeans.labels_"
   ]
  }
 ],
 "metadata": {
  "kernelspec": {
   "display_name": "Python 3.9.12 ('base')",
   "language": "python",
   "name": "python3"
  },
  "language_info": {
   "codemirror_mode": {
    "name": "ipython",
    "version": 3
   },
   "file_extension": ".py",
   "mimetype": "text/x-python",
   "name": "python",
   "nbconvert_exporter": "python",
   "pygments_lexer": "ipython3",
   "version": "3.9.12"
  },
  "orig_nbformat": 4,
  "vscode": {
   "interpreter": {
    "hash": "d7bdcd9f84821488ca1aefdd5b383dc6099ae3b1ac329612af81525cc197a794"
   }
  }
 },
 "nbformat": 4,
 "nbformat_minor": 2
}
